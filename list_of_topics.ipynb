{
 "cells": [
  {
   "cell_type": "markdown",
   "metadata": {},
   "source": [
    "1. Supervised Learning  \n",
    "1.1.  \n",
    "2. Unsupervised Learning\n",
    "3. Reinforcement Learning\n",
    "4. AI Chess Player\n",
    "5. CNN\n",
    "6. RNN\n",
    "7. Tensorflow\n",
    "8. Keras\n",
    "9. Pytorch\n",
    "10. matplotlib\n",
    "11. plt.imshow\n",
    "12. plt.show\n",
    "13. plt.subplots"
   ]
  },
  {
   "cell_type": "markdown",
   "metadata": {},
   "source": []
  },
  {
   "cell_type": "markdown",
   "metadata": {},
   "source": []
  }
 ],
 "metadata": {
  "language_info": {
   "name": "python"
  }
 },
 "nbformat": 4,
 "nbformat_minor": 2
}
