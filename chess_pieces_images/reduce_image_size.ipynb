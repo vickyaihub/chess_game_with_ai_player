{
 "cells": [
  {
   "cell_type": "code",
   "execution_count": 4,
   "metadata": {},
   "outputs": [
    {
     "name": "stdout",
     "output_type": "stream",
     "text": [
      "Resized and saved: black_bishop.jpg\n",
      "Resized and saved: black_king.jpg\n",
      "Resized and saved: black_knight.jpg\n",
      "Resized and saved: black_pawn.jpg\n",
      "Resized and saved: black_queen.jpg\n",
      "Resized and saved: black_rook.jpg\n",
      "Resized and saved: white_bishop.jpg\n",
      "Resized and saved: white_king.jpg\n",
      "Resized and saved: white_knight.jpg\n",
      "Resized and saved: white_pawn.jpg\n",
      "Resized and saved: white_queen.jpg\n",
      "Resized and saved: white_rook.jpg\n"
     ]
    },
    {
     "ename": "",
     "evalue": "",
     "output_type": "error",
     "traceback": [
      "\u001b[1;31mThe Kernel crashed while executing code in the current cell or a previous cell. \n",
      "\u001b[1;31mPlease review the code in the cell(s) to identify a possible cause of the failure. \n",
      "\u001b[1;31mClick <a href='https://aka.ms/vscodeJupyterKernelCrash'>here</a> for more info. \n",
      "\u001b[1;31mView Jupyter <a href='command:jupyter.viewOutput'>log</a> for further details."
     ]
    }
   ],
   "source": [
    "import os\n",
    "from PIL import Image\n",
    "\n",
    "def resize_images_in_folder(folder_path, output_folder, size=(64, 64)):\n",
    "    # Create the output folder if it doesn't exist\n",
    "    if not os.path.exists(output_folder):\n",
    "        os.makedirs(output_folder)\n",
    "\n",
    "    # Iterate over all files in the folder\n",
    "    for filename in os.listdir(folder_path):\n",
    "        if filename.endswith(('.png', '.jpg', '.jpeg', '.bmp', '.gif')):  # Add more extensions if needed\n",
    "            img_path = os.path.join(folder_path, filename)\n",
    "            img = Image.open(img_path)\n",
    "            \n",
    "            # Resize the image\n",
    "            img_resized = img.resize(size, Image.LANCZOS)\n",
    "\n",
    "            # Save the resized image to the output folder\n",
    "            img_resized.save(os.path.join(output_folder, filename))\n",
    "            print(f'Resized and saved: {filename}')\n",
    "\n",
    "# Folder containing the images\n",
    "input_folder = 'C:\\\\Users\\\\sha\\\\Documents\\\\my_work\\\\vickyaihub\\\\chess_pieces_images'\n",
    "# Folder to save the resized images\n",
    "output_folder = 'C:\\\\Users\\\\sha\\\\Documents\\\\my_work\\\\vickyaihub\\\\chess_pieces_images_reduced'\n",
    "\n",
    "# Resize images to 64x64 pixels\n",
    "resize_images_in_folder(input_folder, output_folder, size=(64, 64))\n"
   ]
  },
  {
   "cell_type": "code",
   "execution_count": null,
   "metadata": {},
   "outputs": [],
   "source": []
  }
 ],
 "metadata": {
  "kernelspec": {
   "display_name": "env_vicky",
   "language": "python",
   "name": "python3"
  },
  "language_info": {
   "codemirror_mode": {
    "name": "ipython",
    "version": 3
   },
   "file_extension": ".py",
   "mimetype": "text/x-python",
   "name": "python",
   "nbconvert_exporter": "python",
   "pygments_lexer": "ipython3",
   "version": "3.11.1"
  }
 },
 "nbformat": 4,
 "nbformat_minor": 2
}
